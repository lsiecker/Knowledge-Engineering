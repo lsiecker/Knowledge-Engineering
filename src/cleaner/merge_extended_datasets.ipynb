{
 "cells": [
  {
   "cell_type": "code",
   "execution_count": 17,
   "metadata": {},
   "outputs": [],
   "source": [
    "import pandas as pd"
   ]
  },
  {
   "cell_type": "code",
   "execution_count": 18,
   "metadata": {},
   "outputs": [
    {
     "name": "stdout",
     "output_type": "stream",
     "text": [
      "                 movie_name  movie_date  movie_rating movie_genre  \\\n",
      "0  The Shawshank Redemption  1994-01-01           9.3       Drama   \n",
      "1             The Godfather  1972-01-01           9.2       Crime   \n",
      "2           The Dark Knight  2008-01-01           9.0      Action   \n",
      "3     The Godfather Part II  1974-01-01           9.0       Crime   \n",
      "4              12 Angry Men  1957-01-01           9.0       Crime   \n",
      "\n",
      "  movie_censor       budget  revenue  \n",
      "0            R   25000000.0      NaN  \n",
      "1            R    6000000.0      NaN  \n",
      "2        PG-13  185000000.0      NaN  \n",
      "3            R    6000000.0      NaN  \n",
      "4     Approved     340000.0      NaN  \n"
     ]
    }
   ],
   "source": [
    "# Read the separate datasets\n",
    "movies_df = pd.read_csv('../../data/cleaned_data/Movie.csv')\n",
    "extended_df = pd.read_csv('../../data/cleaned_data/Movie_extended.csv')\n",
    "\n",
    "# Merge the datasets on the 'movie_name' column\n",
    "merged_df = pd.merge(movies_df, extended_df, on='movie_name', how='left')\n",
    "print(merged_df.head(5))\n",
    "\n",
    "# Save it to CSV\n",
    "merged_df.to_csv('../../data/cleaned_data/merged_movies.csv', index=False)"
   ]
  },
  {
   "cell_type": "code",
   "execution_count": 19,
   "metadata": {},
   "outputs": [
    {
     "name": "stdout",
     "output_type": "stream",
     "text": [
      "       person_name person_dateofbirth            birth_date  \\\n",
      "0  Lewis Milestone        30-Sep-1895  1895-09-30T00:00:00Z   \n",
      "1      Frank Lloyd         2-Feb-1886                   NaN   \n",
      "2    Norman Taurog        23-Feb-1899                   NaN   \n",
      "3    Frank Borzage        23-Apr-1894                   NaN   \n",
      "4      Frank Capra        18-May-1897  1897-05-18T00:00:00Z   \n",
      "\n",
      "             death_date        start_activity end_activity  \n",
      "0  1980-09-25T00:00:00Z  1918-01-01T00:00:00Z          NaN  \n",
      "1                   NaN                   NaN          NaN  \n",
      "2                   NaN                   NaN          NaN  \n",
      "3                   NaN                   NaN          NaN  \n",
      "4  1991-09-03T00:00:00Z  1922-01-01T00:00:00Z          NaN  \n"
     ]
    }
   ],
   "source": [
    "# Do the same for persons\n",
    "\n",
    "# Read the separate datasets\n",
    "persons_df = pd.read_csv('../../data/cleaned_data/Person.csv')\n",
    "extended_persons_df = pd.read_csv('../../data/cleaned_data/Person_extended.csv')\n",
    "\n",
    "# Merge the datasets on the 'movie_name' column\n",
    "merged_person_df = pd.merge(persons_df, extended_persons_df, on='person_name', how='left')\n",
    "print(merged_person_df.head(5))\n",
    "\n",
    "# Save it to CSV\n",
    "merged_person_df.to_csv('../../data/cleaned_data/merged_persons.csv', index=False)\n"
   ]
  }
 ],
 "metadata": {
  "kernelspec": {
   "display_name": "ke_env",
   "language": "python",
   "name": "python3"
  },
  "language_info": {
   "codemirror_mode": {
    "name": "ipython",
    "version": 3
   },
   "file_extension": ".py",
   "mimetype": "text/x-python",
   "name": "python",
   "nbconvert_exporter": "python",
   "pygments_lexer": "ipython3",
   "version": "3.10.11"
  },
  "orig_nbformat": 4
 },
 "nbformat": 4,
 "nbformat_minor": 2
}
